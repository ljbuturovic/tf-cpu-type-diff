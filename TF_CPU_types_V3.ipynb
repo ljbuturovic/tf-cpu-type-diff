{
 "cells": [
  {
   "cell_type": "markdown",
   "metadata": {
    "slideshow": {
     "slide_type": "slide"
    }
   },
   "source": [
    "# Demonstrate differences when using Tensorflow on different CPU types"
   ]
  },
  {
   "cell_type": "code",
   "execution_count": 1,
   "metadata": {
    "ExecuteTime": {
     "end_time": "2021-11-09T01:11:16.793949Z",
     "start_time": "2021-11-09T01:11:15.011132Z"
    },
    "lines_to_next_cell": 0,
    "slideshow": {
     "slide_type": "subslide"
    }
   },
   "outputs": [],
   "source": [
    "import os\n",
    "import subprocess\n",
    "import numpy as np\n",
    "import pandas as pd\n",
    "from IPython.display import display\n",
    "%matplotlib inline\n",
    "import matplotlib.pyplot as plt\n",
    "import random as rn\n",
    "import tensorflow as tf\n",
    "from tensorflow.keras import Model\n",
    "from tensorflow.keras.layers import BatchNormalization, Dense, Softmax\n",
    "\n",
    "pd.set_option(\"display.float_format\", '{:.6f}'.format)"
   ]
  },
  {
   "cell_type": "code",
   "execution_count": 2,
   "metadata": {
    "ExecuteTime": {
     "end_time": "2021-11-09T01:11:16.801672Z",
     "start_time": "2021-11-09T01:11:16.796118Z"
    }
   },
   "outputs": [],
   "source": [
    "def getCPUtype():\n",
    "    cpuinfo = subprocess.check_output(\"cat /proc/cpuinfo\", shell=True).decode()\n",
    "    for l in cpuinfo.split(\"\\n\"):\n",
    "        if l.find(\"vendor_id\") >= 0:\n",
    "            if l.find(\"GenuineIntel\") >= 0:\n",
    "                return \"Intel\"\n",
    "            else:\n",
    "                return \"AMD\"\n",
    "\n",
    "def gen_iterator_rand(mini_batch_size, dataset, labels):\n",
    "    while True:\n",
    "        rand_idx = np.random.choice(range(dataset.shape[0]), mini_batch_size, False)\n",
    "        yield dataset[rand_idx, :], labels[rand_idx].astype('int32')"
   ]
  },
  {
   "cell_type": "markdown",
   "metadata": {
    "ExecuteTime": {
     "end_time": "2021-10-20T16:12:37.973053Z",
     "start_time": "2021-10-20T16:12:37.970292Z"
    }
   },
   "source": [
    "## Load data"
   ]
  },
  {
   "cell_type": "code",
   "execution_count": 3,
   "metadata": {
    "ExecuteTime": {
     "end_time": "2021-11-09T01:11:16.875463Z",
     "start_time": "2021-11-09T01:11:16.804201Z"
    }
   },
   "outputs": [
    {
     "name": "stdout",
     "output_type": "stream",
     "text": [
      "CPU type: Intel Tensorflow: 2.6.0\n",
      "Data shapes: (902, 30) (221, 30)\n"
     ]
    },
    {
     "data": {
      "text/html": [
       "<div>\n",
       "<style scoped>\n",
       "    .dataframe tbody tr th:only-of-type {\n",
       "        vertical-align: middle;\n",
       "    }\n",
       "\n",
       "    .dataframe tbody tr th {\n",
       "        vertical-align: top;\n",
       "    }\n",
       "\n",
       "    .dataframe thead th {\n",
       "        text-align: right;\n",
       "    }\n",
       "</style>\n",
       "<table border=\"1\" class=\"dataframe\">\n",
       "  <thead>\n",
       "    <tr style=\"text-align: right;\">\n",
       "      <th></th>\n",
       "      <th>0</th>\n",
       "      <th>1</th>\n",
       "      <th>2</th>\n",
       "      <th>3</th>\n",
       "      <th>4</th>\n",
       "      <th>5</th>\n",
       "      <th>6</th>\n",
       "      <th>7</th>\n",
       "      <th>8</th>\n",
       "      <th>9</th>\n",
       "      <th>...</th>\n",
       "      <th>20</th>\n",
       "      <th>21</th>\n",
       "      <th>22</th>\n",
       "      <th>23</th>\n",
       "      <th>24</th>\n",
       "      <th>25</th>\n",
       "      <th>26</th>\n",
       "      <th>27</th>\n",
       "      <th>28</th>\n",
       "      <th>truth</th>\n",
       "    </tr>\n",
       "  </thead>\n",
       "  <tbody>\n",
       "    <tr>\n",
       "      <th>0</th>\n",
       "      <td>0.638492</td>\n",
       "      <td>0.742388</td>\n",
       "      <td>-0.786132</td>\n",
       "      <td>-0.065854</td>\n",
       "      <td>2.026080</td>\n",
       "      <td>1.199561</td>\n",
       "      <td>-1.478876</td>\n",
       "      <td>2.080921</td>\n",
       "      <td>-0.082029</td>\n",
       "      <td>1.192170</td>\n",
       "      <td>...</td>\n",
       "      <td>0.958104</td>\n",
       "      <td>-1.072159</td>\n",
       "      <td>0.665050</td>\n",
       "      <td>-0.817841</td>\n",
       "      <td>-0.081059</td>\n",
       "      <td>1.772153</td>\n",
       "      <td>0.304970</td>\n",
       "      <td>0.079072</td>\n",
       "      <td>0.054353</td>\n",
       "      <td>1</td>\n",
       "    </tr>\n",
       "    <tr>\n",
       "      <th>1</th>\n",
       "      <td>-0.327518</td>\n",
       "      <td>2.126654</td>\n",
       "      <td>-1.202952</td>\n",
       "      <td>0.364890</td>\n",
       "      <td>1.047391</td>\n",
       "      <td>3.235585</td>\n",
       "      <td>-0.726095</td>\n",
       "      <td>0.735434</td>\n",
       "      <td>-0.609795</td>\n",
       "      <td>2.563223</td>\n",
       "      <td>...</td>\n",
       "      <td>-0.100828</td>\n",
       "      <td>-1.703420</td>\n",
       "      <td>0.092144</td>\n",
       "      <td>-0.829313</td>\n",
       "      <td>-1.353283</td>\n",
       "      <td>1.775399</td>\n",
       "      <td>0.951535</td>\n",
       "      <td>-1.172072</td>\n",
       "      <td>0.455788</td>\n",
       "      <td>1</td>\n",
       "    </tr>\n",
       "    <tr>\n",
       "      <th>2</th>\n",
       "      <td>1.887291</td>\n",
       "      <td>1.354943</td>\n",
       "      <td>-0.314060</td>\n",
       "      <td>-0.624617</td>\n",
       "      <td>0.094917</td>\n",
       "      <td>1.002899</td>\n",
       "      <td>-0.455322</td>\n",
       "      <td>-0.376964</td>\n",
       "      <td>0.914075</td>\n",
       "      <td>1.550020</td>\n",
       "      <td>...</td>\n",
       "      <td>0.323688</td>\n",
       "      <td>1.183806</td>\n",
       "      <td>0.239659</td>\n",
       "      <td>0.871356</td>\n",
       "      <td>0.815638</td>\n",
       "      <td>0.725866</td>\n",
       "      <td>0.416811</td>\n",
       "      <td>-0.626805</td>\n",
       "      <td>0.083920</td>\n",
       "      <td>1</td>\n",
       "    </tr>\n",
       "    <tr>\n",
       "      <th>3</th>\n",
       "      <td>1.263448</td>\n",
       "      <td>0.843022</td>\n",
       "      <td>-1.821396</td>\n",
       "      <td>-0.817398</td>\n",
       "      <td>1.037859</td>\n",
       "      <td>2.108119</td>\n",
       "      <td>-1.858121</td>\n",
       "      <td>1.078692</td>\n",
       "      <td>0.433002</td>\n",
       "      <td>2.411664</td>\n",
       "      <td>...</td>\n",
       "      <td>-0.932172</td>\n",
       "      <td>-1.180098</td>\n",
       "      <td>0.973801</td>\n",
       "      <td>-1.627008</td>\n",
       "      <td>-0.339502</td>\n",
       "      <td>1.055874</td>\n",
       "      <td>0.378411</td>\n",
       "      <td>-2.054756</td>\n",
       "      <td>-0.391434</td>\n",
       "      <td>1</td>\n",
       "    </tr>\n",
       "    <tr>\n",
       "      <th>4</th>\n",
       "      <td>-1.443829</td>\n",
       "      <td>1.429872</td>\n",
       "      <td>-1.135098</td>\n",
       "      <td>-0.930356</td>\n",
       "      <td>-0.438913</td>\n",
       "      <td>1.631148</td>\n",
       "      <td>-1.345121</td>\n",
       "      <td>0.004546</td>\n",
       "      <td>0.125964</td>\n",
       "      <td>-0.786524</td>\n",
       "      <td>...</td>\n",
       "      <td>1.265878</td>\n",
       "      <td>-1.894231</td>\n",
       "      <td>0.493521</td>\n",
       "      <td>-1.420498</td>\n",
       "      <td>0.028886</td>\n",
       "      <td>1.749431</td>\n",
       "      <td>1.279378</td>\n",
       "      <td>-0.972321</td>\n",
       "      <td>1.052824</td>\n",
       "      <td>0</td>\n",
       "    </tr>\n",
       "  </tbody>\n",
       "</table>\n",
       "<p>5 rows × 30 columns</p>\n",
       "</div>"
      ],
      "text/plain": [
       "          0        1         2         3         4        5         6  \\\n",
       "0  0.638492 0.742388 -0.786132 -0.065854  2.026080 1.199561 -1.478876   \n",
       "1 -0.327518 2.126654 -1.202952  0.364890  1.047391 3.235585 -0.726095   \n",
       "2  1.887291 1.354943 -0.314060 -0.624617  0.094917 1.002899 -0.455322   \n",
       "3  1.263448 0.843022 -1.821396 -0.817398  1.037859 2.108119 -1.858121   \n",
       "4 -1.443829 1.429872 -1.135098 -0.930356 -0.438913 1.631148 -1.345121   \n",
       "\n",
       "          7         8         9  ...        20        21       22        23  \\\n",
       "0  2.080921 -0.082029  1.192170  ...  0.958104 -1.072159 0.665050 -0.817841   \n",
       "1  0.735434 -0.609795  2.563223  ... -0.100828 -1.703420 0.092144 -0.829313   \n",
       "2 -0.376964  0.914075  1.550020  ...  0.323688  1.183806 0.239659  0.871356   \n",
       "3  1.078692  0.433002  2.411664  ... -0.932172 -1.180098 0.973801 -1.627008   \n",
       "4  0.004546  0.125964 -0.786524  ...  1.265878 -1.894231 0.493521 -1.420498   \n",
       "\n",
       "         24       25       26        27        28  truth  \n",
       "0 -0.081059 1.772153 0.304970  0.079072  0.054353      1  \n",
       "1 -1.353283 1.775399 0.951535 -1.172072  0.455788      1  \n",
       "2  0.815638 0.725866 0.416811 -0.626805  0.083920      1  \n",
       "3 -0.339502 1.055874 0.378411 -2.054756 -0.391434      1  \n",
       "4  0.028886 1.749431 1.279378 -0.972321  1.052824      0  \n",
       "\n",
       "[5 rows x 30 columns]"
      ]
     },
     "metadata": {},
     "output_type": "display_data"
    }
   ],
   "source": [
    "CPUtype = getCPUtype()\n",
    "TFVersion = tf.__version__\n",
    "print(\"CPU type:\", CPUtype, \"Tensorflow:\", TFVersion)\n",
    "\n",
    "train_df = pd.read_csv(\"training_data.csv\", index_col=0)\n",
    "val_df = pd.read_csv(\"validation_data.csv\", index_col=0)\n",
    "print(\"Data shapes:\", train_df.shape, val_df.shape)\n",
    "display(train_df.head())"
   ]
  },
  {
   "cell_type": "markdown",
   "metadata": {},
   "source": [
    "## Make model "
   ]
  },
  {
   "cell_type": "code",
   "execution_count": 4,
   "metadata": {
    "ExecuteTime": {
     "end_time": "2021-11-09T01:11:17.104828Z",
     "start_time": "2021-11-09T01:11:16.877471Z"
    }
   },
   "outputs": [
    {
     "name": "stdout",
     "output_type": "stream",
     "text": [
      "Model: \"model\"\n",
      "_________________________________________________________________\n",
      "Layer (type)                 Output Shape              Param #   \n",
      "=================================================================\n",
      "input_1 (InputLayer)         [(None, 29)]              0         \n",
      "_________________________________________________________________\n",
      "dense (Dense)                (None, 20)                600       \n",
      "_________________________________________________________________\n",
      "dense_1 (Dense)              (None, 20)                420       \n",
      "_________________________________________________________________\n",
      "batch_normalization (BatchNo (None, 20)                80        \n",
      "_________________________________________________________________\n",
      "dense_2 (Dense)              (None, 20)                420       \n",
      "_________________________________________________________________\n",
      "batch_normalization_1 (Batch (None, 20)                80        \n",
      "_________________________________________________________________\n",
      "dense_3 (Dense)              (None, 2)                 42        \n",
      "=================================================================\n",
      "Total params: 1,642\n",
      "Trainable params: 1,562\n",
      "Non-trainable params: 80\n",
      "_________________________________________________________________\n"
     ]
    }
   ],
   "source": [
    "tf_seed = 371\n",
    "batch_size = 128\n",
    "iteration = 50\n",
    "hidden_layers = 3\n",
    "learning_rate = 0.1\n",
    "hidden_units = 20\n",
    "\n",
    "# set the various random seeds\n",
    "np.random.seed(888)\n",
    "rn.seed(12345)\n",
    "\n",
    "tf.random.set_seed(tf_seed)\n",
    "tf.config.threading.set_inter_op_parallelism_threads(1)\n",
    "tf.config.threading.set_intra_op_parallelism_threads(1)\n",
    "\n",
    "initialization = tf.keras.initializers.GlorotUniform(seed=2)\n",
    "\n",
    "dense_input = tf.keras.Input(shape=(29,), dtype=tf.float32)\n",
    "\n",
    "a = Dense(\n",
    "    units=hidden_units,\n",
    "    activation=\"relu\",\n",
    "    kernel_initializer=initialization\n",
    ")(dense_input)\n",
    "\n",
    "count = 1\n",
    "for i in range(hidden_layers - 1):\n",
    "    a = Dense(\n",
    "        units=hidden_units,\n",
    "        activation=\"relu\",\n",
    "        kernel_initializer=initialization\n",
    "    )(a)\n",
    "    a = BatchNormalization()(a)\n",
    "\n",
    "# final layer \n",
    "predictions = Dense(\n",
    "    units=2,\n",
    "    activation=\"softmax\",\n",
    "    kernel_initializer=initialization\n",
    ")(a)\n",
    "\n",
    "model = Model(inputs=dense_input, outputs=predictions)\n",
    "\n",
    "adam_opt = tf.keras.optimizers.Adam(\n",
    "    learning_rate=learning_rate,\n",
    "    beta_1=0.9,\n",
    "    beta_2=0.999,\n",
    "    name=\"Adam\"\n",
    ")\n",
    "model.compile(optimizer=adam_opt, loss='sparse_categorical_crossentropy', run_eagerly=False)\n",
    "model.summary()\n"
   ]
  },
  {
   "cell_type": "markdown",
   "metadata": {},
   "source": [
    "### Fit model"
   ]
  },
  {
   "cell_type": "code",
   "execution_count": 5,
   "metadata": {
    "ExecuteTime": {
     "end_time": "2021-11-09T01:11:19.791827Z",
     "start_time": "2021-11-09T01:11:17.106152Z"
    }
   },
   "outputs": [],
   "source": [
    "start_iter=0\n",
    "np.random.seed(tf_seed)\n",
    "logfile = open(f\"batches_{CPUtype}.log\",\"w\")\n",
    "gen_batch = gen_iterator_rand(batch_size,train_df.drop([\"truth\"], axis=1).values, \n",
    "                                   labels=train_df[\"truth\"].values)\n",
    "for i in range(start_iter, iteration):\n",
    "    batch_x, batch_y = next(gen_batch)\n",
    "    for i,b in enumerate(batch_x):\n",
    "        logfile.write(repr(i) +\" \"+ repr(b) +\"\\n\")\n",
    "    logfile.write(\"\\n\")\n",
    "    #print(batch_x.shape, batch_y.shape)\n",
    "    model.train_on_batch(batch_x, batch_y)\n",
    "logfile.close()\n",
    "val_df[\"prob_1\"] = model.predict(val_df.drop([\"truth\"], axis=1).values)[:,1]\n",
    "#display(val_df)\n",
    "val_df.to_csv(f\"val_preds_{CPUtype}_TF{TFVersion}.csv\")"
   ]
  },
  {
   "cell_type": "code",
   "execution_count": 6,
   "metadata": {
    "ExecuteTime": {
     "end_time": "2021-11-09T01:11:19.925464Z",
     "start_time": "2021-11-09T01:11:19.793369Z"
    }
   },
   "outputs": [
    {
     "name": "stdout",
     "output_type": "stream",
     "text": [
      "diff: batches_AMD.log: No such file or directory\r\n"
     ]
    }
   ],
   "source": [
    "! diff -s batches_AMD.log batches_Intel.log "
   ]
  },
  {
   "cell_type": "markdown",
   "metadata": {
    "ExecuteTime": {
     "end_time": "2021-10-20T15:56:36.611656Z",
     "start_time": "2021-10-20T15:56:36.609745Z"
    }
   },
   "source": [
    "### Plot Intel vs. AMD"
   ]
  },
  {
   "cell_type": "code",
   "execution_count": 7,
   "metadata": {
    "ExecuteTime": {
     "end_time": "2021-11-09T01:11:20.094122Z",
     "start_time": "2021-11-09T01:11:19.927442Z"
    }
   },
   "outputs": [],
   "source": [
    "AMDfile = f\"val_preds_AMD_TF{TFVersion}.csv\"\n",
    "IntelFile = f\"val_preds_Intel_TF{TFVersion}.csv\"\n",
    "if os.path.exists(AMDfile) and os.path.exists(IntelFile):\n",
    "    amd = pd.read_csv(AMDfile)\n",
    "    intel = pd.read_csv(IntelFile)\n",
    "    print((intel[\"prob_1\"] - amd[\"prob_1\"]).abs().sort_values(ascending=False).head(10))\n",
    "    fg = plt.figure(figsize=(8,8))\n",
    "    plt.scatter(intel[\"prob_1\"], amd[\"prob_1\"])\n",
    "    plt.title(f\"Tensorflow {TFVersion}, Prob 1\")\n",
    "    plt.xlabel(\"Intel\")\n",
    "    plt.ylabel(\"AMD\")\n",
    "    plt.show()"
   ]
  },
  {
   "cell_type": "code",
   "execution_count": null,
   "metadata": {},
   "outputs": [],
   "source": []
  }
 ],
 "metadata": {
  "hide_input": false,
  "jupytext": {
   "text_representation": {
    "extension": ".py",
    "format_name": "light",
    "format_version": "1.5",
    "jupytext_version": "1.5.2"
   }
  },
  "kernelspec": {
   "display_name": "Python 3",
   "language": "python",
   "name": "python3"
  },
  "language_info": {
   "codemirror_mode": {
    "name": "ipython",
    "version": 3
   },
   "file_extension": ".py",
   "mimetype": "text/x-python",
   "name": "python",
   "nbconvert_exporter": "python",
   "pygments_lexer": "ipython3",
   "version": "3.9.5"
  },
  "toc": {
   "base_numbering": 1,
   "nav_menu": {},
   "number_sections": false,
   "sideBar": true,
   "skip_h1_title": false,
   "title_cell": "Table of Contents",
   "title_sidebar": "Contents",
   "toc_cell": false,
   "toc_position": {
    "height": "902.876px",
    "left": "26px",
    "top": "110.438px",
    "width": "333.718px"
   },
   "toc_section_display": true,
   "toc_window_display": true
  }
 },
 "nbformat": 4,
 "nbformat_minor": 2
}
