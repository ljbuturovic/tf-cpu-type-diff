{
 "cells": [
  {
   "cell_type": "markdown",
   "metadata": {
    "slideshow": {
     "slide_type": "slide"
    }
   },
   "source": [
    "# Demonstrate differences when using Tensorflow on different CPU types"
   ]
  },
  {
   "cell_type": "code",
   "execution_count": 1,
   "metadata": {
    "ExecuteTime": {
     "end_time": "2021-11-09T01:11:16.793949Z",
     "start_time": "2021-11-09T01:11:15.011132Z"
    },
    "lines_to_next_cell": 0,
    "slideshow": {
     "slide_type": "subslide"
    }
   },
   "outputs": [],
   "source": [
    "import os\n",
    "import subprocess\n",
    "import numpy as np\n",
    "import pandas as pd\n",
    "from IPython.display import display\n",
    "%matplotlib inline\n",
    "import matplotlib.pyplot as plt\n",
    "import random as rn\n",
    "import tensorflow as tf\n",
    "from tensorflow.keras import Model\n",
    "from tensorflow.keras.layers import BatchNormalization, Dense, Softmax\n",
    "\n",
    "pd.set_option(\"display.float_format\", '{:.3f}'.format)"
   ]
  },
  {
   "cell_type": "code",
   "execution_count": 2,
   "metadata": {
    "ExecuteTime": {
     "end_time": "2021-11-09T01:11:16.801672Z",
     "start_time": "2021-11-09T01:11:16.796118Z"
    }
   },
   "outputs": [],
   "source": [
    "def getCPUtype():\n",
    "    cpuinfo = subprocess.check_output(\"cat /proc/cpuinfo\", shell=True).decode()\n",
    "    for l in cpuinfo.split(\"\\n\"):\n",
    "        if l.find(\"vendor_id\") >= 0:\n",
    "            if l.find(\"GenuineIntel\") >= 0:\n",
    "                return \"Intel\"\n",
    "            else:\n",
    "                return \"AMD\"\n",
    "\n",
    "def gen_iterator_rand(mini_batch_size, dataset, labels):\n",
    "    while True:\n",
    "        rand_idx = np.random.choice(range(dataset.shape[0]), mini_batch_size, False)\n",
    "        yield dataset[rand_idx, :], labels[rand_idx].astype('int32')"
   ]
  },
  {
   "cell_type": "markdown",
   "metadata": {
    "ExecuteTime": {
     "end_time": "2021-10-20T16:12:37.973053Z",
     "start_time": "2021-10-20T16:12:37.970292Z"
    }
   },
   "source": [
    "## Load data"
   ]
  },
  {
   "cell_type": "code",
   "execution_count": 3,
   "metadata": {
    "ExecuteTime": {
     "end_time": "2021-11-09T01:11:16.875463Z",
     "start_time": "2021-11-09T01:11:16.804201Z"
    }
   },
   "outputs": [
    {
     "name": "stdout",
     "output_type": "stream",
     "text": [
      "CPU type: Intel\n",
      "Data shapes: (902, 30) (221, 30)\n"
     ]
    },
    {
     "data": {
      "text/html": [
       "<div>\n",
       "<style scoped>\n",
       "    .dataframe tbody tr th:only-of-type {\n",
       "        vertical-align: middle;\n",
       "    }\n",
       "\n",
       "    .dataframe tbody tr th {\n",
       "        vertical-align: top;\n",
       "    }\n",
       "\n",
       "    .dataframe thead th {\n",
       "        text-align: right;\n",
       "    }\n",
       "</style>\n",
       "<table border=\"1\" class=\"dataframe\">\n",
       "  <thead>\n",
       "    <tr style=\"text-align: right;\">\n",
       "      <th></th>\n",
       "      <th>0</th>\n",
       "      <th>1</th>\n",
       "      <th>2</th>\n",
       "      <th>3</th>\n",
       "      <th>4</th>\n",
       "      <th>5</th>\n",
       "      <th>6</th>\n",
       "      <th>7</th>\n",
       "      <th>8</th>\n",
       "      <th>9</th>\n",
       "      <th>...</th>\n",
       "      <th>20</th>\n",
       "      <th>21</th>\n",
       "      <th>22</th>\n",
       "      <th>23</th>\n",
       "      <th>24</th>\n",
       "      <th>25</th>\n",
       "      <th>26</th>\n",
       "      <th>27</th>\n",
       "      <th>28</th>\n",
       "      <th>truth</th>\n",
       "    </tr>\n",
       "  </thead>\n",
       "  <tbody>\n",
       "    <tr>\n",
       "      <th>0</th>\n",
       "      <td>0.638</td>\n",
       "      <td>0.742</td>\n",
       "      <td>-0.786</td>\n",
       "      <td>-0.066</td>\n",
       "      <td>2.026</td>\n",
       "      <td>1.200</td>\n",
       "      <td>-1.479</td>\n",
       "      <td>2.081</td>\n",
       "      <td>-0.082</td>\n",
       "      <td>1.192</td>\n",
       "      <td>...</td>\n",
       "      <td>0.958</td>\n",
       "      <td>-1.072</td>\n",
       "      <td>0.665</td>\n",
       "      <td>-0.818</td>\n",
       "      <td>-0.081</td>\n",
       "      <td>1.772</td>\n",
       "      <td>0.305</td>\n",
       "      <td>0.079</td>\n",
       "      <td>0.054</td>\n",
       "      <td>1</td>\n",
       "    </tr>\n",
       "    <tr>\n",
       "      <th>1</th>\n",
       "      <td>-0.328</td>\n",
       "      <td>2.127</td>\n",
       "      <td>-1.203</td>\n",
       "      <td>0.365</td>\n",
       "      <td>1.047</td>\n",
       "      <td>3.236</td>\n",
       "      <td>-0.726</td>\n",
       "      <td>0.735</td>\n",
       "      <td>-0.610</td>\n",
       "      <td>2.563</td>\n",
       "      <td>...</td>\n",
       "      <td>-0.101</td>\n",
       "      <td>-1.703</td>\n",
       "      <td>0.092</td>\n",
       "      <td>-0.829</td>\n",
       "      <td>-1.353</td>\n",
       "      <td>1.775</td>\n",
       "      <td>0.952</td>\n",
       "      <td>-1.172</td>\n",
       "      <td>0.456</td>\n",
       "      <td>1</td>\n",
       "    </tr>\n",
       "    <tr>\n",
       "      <th>2</th>\n",
       "      <td>1.887</td>\n",
       "      <td>1.355</td>\n",
       "      <td>-0.314</td>\n",
       "      <td>-0.625</td>\n",
       "      <td>0.095</td>\n",
       "      <td>1.003</td>\n",
       "      <td>-0.455</td>\n",
       "      <td>-0.377</td>\n",
       "      <td>0.914</td>\n",
       "      <td>1.550</td>\n",
       "      <td>...</td>\n",
       "      <td>0.324</td>\n",
       "      <td>1.184</td>\n",
       "      <td>0.240</td>\n",
       "      <td>0.871</td>\n",
       "      <td>0.816</td>\n",
       "      <td>0.726</td>\n",
       "      <td>0.417</td>\n",
       "      <td>-0.627</td>\n",
       "      <td>0.084</td>\n",
       "      <td>1</td>\n",
       "    </tr>\n",
       "    <tr>\n",
       "      <th>3</th>\n",
       "      <td>1.263</td>\n",
       "      <td>0.843</td>\n",
       "      <td>-1.821</td>\n",
       "      <td>-0.817</td>\n",
       "      <td>1.038</td>\n",
       "      <td>2.108</td>\n",
       "      <td>-1.858</td>\n",
       "      <td>1.079</td>\n",
       "      <td>0.433</td>\n",
       "      <td>2.412</td>\n",
       "      <td>...</td>\n",
       "      <td>-0.932</td>\n",
       "      <td>-1.180</td>\n",
       "      <td>0.974</td>\n",
       "      <td>-1.627</td>\n",
       "      <td>-0.340</td>\n",
       "      <td>1.056</td>\n",
       "      <td>0.378</td>\n",
       "      <td>-2.055</td>\n",
       "      <td>-0.391</td>\n",
       "      <td>1</td>\n",
       "    </tr>\n",
       "    <tr>\n",
       "      <th>4</th>\n",
       "      <td>-1.444</td>\n",
       "      <td>1.430</td>\n",
       "      <td>-1.135</td>\n",
       "      <td>-0.930</td>\n",
       "      <td>-0.439</td>\n",
       "      <td>1.631</td>\n",
       "      <td>-1.345</td>\n",
       "      <td>0.005</td>\n",
       "      <td>0.126</td>\n",
       "      <td>-0.787</td>\n",
       "      <td>...</td>\n",
       "      <td>1.266</td>\n",
       "      <td>-1.894</td>\n",
       "      <td>0.494</td>\n",
       "      <td>-1.420</td>\n",
       "      <td>0.029</td>\n",
       "      <td>1.749</td>\n",
       "      <td>1.279</td>\n",
       "      <td>-0.972</td>\n",
       "      <td>1.053</td>\n",
       "      <td>0</td>\n",
       "    </tr>\n",
       "  </tbody>\n",
       "</table>\n",
       "<p>5 rows × 30 columns</p>\n",
       "</div>"
      ],
      "text/plain": [
       "       0     1      2      3      4     5      6      7      8      9  ...  \\\n",
       "0  0.638 0.742 -0.786 -0.066  2.026 1.200 -1.479  2.081 -0.082  1.192  ...   \n",
       "1 -0.328 2.127 -1.203  0.365  1.047 3.236 -0.726  0.735 -0.610  2.563  ...   \n",
       "2  1.887 1.355 -0.314 -0.625  0.095 1.003 -0.455 -0.377  0.914  1.550  ...   \n",
       "3  1.263 0.843 -1.821 -0.817  1.038 2.108 -1.858  1.079  0.433  2.412  ...   \n",
       "4 -1.444 1.430 -1.135 -0.930 -0.439 1.631 -1.345  0.005  0.126 -0.787  ...   \n",
       "\n",
       "      20     21    22     23     24    25    26     27     28  truth  \n",
       "0  0.958 -1.072 0.665 -0.818 -0.081 1.772 0.305  0.079  0.054      1  \n",
       "1 -0.101 -1.703 0.092 -0.829 -1.353 1.775 0.952 -1.172  0.456      1  \n",
       "2  0.324  1.184 0.240  0.871  0.816 0.726 0.417 -0.627  0.084      1  \n",
       "3 -0.932 -1.180 0.974 -1.627 -0.340 1.056 0.378 -2.055 -0.391      1  \n",
       "4  1.266 -1.894 0.494 -1.420  0.029 1.749 1.279 -0.972  1.053      0  \n",
       "\n",
       "[5 rows x 30 columns]"
      ]
     },
     "metadata": {},
     "output_type": "display_data"
    }
   ],
   "source": [
    "CPUtype = getCPUtype()\n",
    "print(\"CPU type:\", CPUtype)\n",
    "\n",
    "train_df = pd.read_csv(\"training_data.csv\", index_col=0)\n",
    "val_df = pd.read_csv(\"validation_data.csv\", index_col=0)\n",
    "print(\"Data shapes:\", train_df.shape, val_df.shape)\n",
    "display(train_df.head())"
   ]
  },
  {
   "cell_type": "markdown",
   "metadata": {},
   "source": [
    "## Make model "
   ]
  },
  {
   "cell_type": "code",
   "execution_count": 4,
   "metadata": {
    "ExecuteTime": {
     "end_time": "2021-11-09T01:11:17.104828Z",
     "start_time": "2021-11-09T01:11:16.877471Z"
    }
   },
   "outputs": [
    {
     "name": "stdout",
     "output_type": "stream",
     "text": [
      "Model: \"model\"\n",
      "_________________________________________________________________\n",
      "Layer (type)                 Output Shape              Param #   \n",
      "=================================================================\n",
      "input_1 (InputLayer)         [(None, 29)]              0         \n",
      "_________________________________________________________________\n",
      "dense (Dense)                (None, 20)                600       \n",
      "_________________________________________________________________\n",
      "dense_1 (Dense)              (None, 20)                420       \n",
      "_________________________________________________________________\n",
      "batch_normalization (BatchNo (None, 20)                80        \n",
      "_________________________________________________________________\n",
      "dense_2 (Dense)              (None, 20)                420       \n",
      "_________________________________________________________________\n",
      "batch_normalization_1 (Batch (None, 20)                80        \n",
      "_________________________________________________________________\n",
      "dense_3 (Dense)              (None, 2)                 42        \n",
      "=================================================================\n",
      "Total params: 1,642\n",
      "Trainable params: 1,562\n",
      "Non-trainable params: 80\n",
      "_________________________________________________________________\n"
     ]
    }
   ],
   "source": [
    "tf_seed = 371\n",
    "batch_size = 128\n",
    "iteration = 50\n",
    "hidden_layers = 3\n",
    "learning_rate = 0.1\n",
    "hidden_units = 20\n",
    "\n",
    "# set the various random seeds\n",
    "np.random.seed(888)\n",
    "rn.seed(12345)\n",
    "\n",
    "tf.random.set_seed(tf_seed)\n",
    "tf.config.threading.set_inter_op_parallelism_threads(1)\n",
    "tf.config.threading.set_intra_op_parallelism_threads(1)\n",
    "\n",
    "initialization = tf.keras.initializers.GlorotUniform(seed=2)\n",
    "\n",
    "dense_input = tf.keras.Input(shape=(29,), dtype=tf.float32)\n",
    "\n",
    "a = Dense(\n",
    "    units=hidden_units,\n",
    "    activation=\"relu\",\n",
    "    kernel_initializer=initialization\n",
    ")(dense_input)\n",
    "\n",
    "count = 1\n",
    "for i in range(hidden_layers - 1):\n",
    "    a = Dense(\n",
    "        units=hidden_units,\n",
    "        activation=\"relu\",\n",
    "        kernel_initializer=initialization\n",
    "    )(a)\n",
    "    a = BatchNormalization()(a)\n",
    "\n",
    "# final layer \n",
    "predictions = Dense(\n",
    "    units=2,\n",
    "    activation=\"softmax\",\n",
    "    kernel_initializer=initialization\n",
    ")(a)\n",
    "\n",
    "model = Model(inputs=dense_input, outputs=predictions)\n",
    "\n",
    "adam_opt = tf.keras.optimizers.Adam(\n",
    "    learning_rate=learning_rate,\n",
    "    beta_1=0.9,\n",
    "    beta_2=0.999,\n",
    "    name=\"Adam\"\n",
    ")\n",
    "model.compile(optimizer=adam_opt, loss='sparse_categorical_crossentropy', run_eagerly=False)\n",
    "model.summary()\n"
   ]
  },
  {
   "cell_type": "markdown",
   "metadata": {},
   "source": [
    "### Fit model"
   ]
  },
  {
   "cell_type": "code",
   "execution_count": 5,
   "metadata": {
    "ExecuteTime": {
     "end_time": "2021-11-09T01:11:19.791827Z",
     "start_time": "2021-11-09T01:11:17.106152Z"
    }
   },
   "outputs": [],
   "source": [
    "start_iter=0\n",
    "np.random.seed(tf_seed)\n",
    "logfile = open(f\"batches_{CPUtype}.log\",\"w\")\n",
    "gen_batch = gen_iterator_rand(batch_size,train_df.drop([\"truth\"], axis=1).values, \n",
    "                                   labels=train_df[\"truth\"].values)\n",
    "for i in range(start_iter, iteration):\n",
    "    batch_x, batch_y = next(gen_batch)\n",
    "    for i,b in enumerate(batch_x):\n",
    "        logfile.write(repr(i) +\" \"+ repr(b) +\"\\n\")\n",
    "    logfile.write(\"\\n\")\n",
    "    #print(batch_x.shape, batch_y.shape)\n",
    "    model.train_on_batch(batch_x, batch_y)\n",
    "logfile.close()\n",
    "val_df[\"prob_1\"] = model.predict(val_df.drop([\"truth\"], axis=1).values)[:,1]\n",
    "#display(val_df)\n",
    "val_df.to_csv(f\"val_preds_{CPUtype}.csv\")"
   ]
  },
  {
   "cell_type": "code",
   "execution_count": 6,
   "metadata": {
    "ExecuteTime": {
     "end_time": "2021-11-09T01:11:19.925464Z",
     "start_time": "2021-11-09T01:11:19.793369Z"
    }
   },
   "outputs": [
    {
     "name": "stdout",
     "output_type": "stream",
     "text": [
      "Files batches_AMD.log and batches_Intel.log are identical\r\n"
     ]
    }
   ],
   "source": [
    "! diff -s batches_AMD.log batches_Intel.log "
   ]
  },
  {
   "cell_type": "markdown",
   "metadata": {
    "ExecuteTime": {
     "end_time": "2021-10-20T15:56:36.611656Z",
     "start_time": "2021-10-20T15:56:36.609745Z"
    }
   },
   "source": [
    "### Plot Intel vs. AMD"
   ]
  },
  {
   "cell_type": "code",
   "execution_count": 7,
   "metadata": {
    "ExecuteTime": {
     "end_time": "2021-11-09T01:11:20.094122Z",
     "start_time": "2021-11-09T01:11:19.927442Z"
    }
   },
   "outputs": [
    {
     "name": "stdout",
     "output_type": "stream",
     "text": [
      "104   0.117\n",
      "13    0.107\n",
      "137   0.103\n",
      "11    0.079\n",
      "90    0.055\n",
      "83    0.052\n",
      "88    0.048\n",
      "148   0.047\n",
      "110   0.044\n",
      "185   0.040\n",
      "Name: prob_1, dtype: float64\n"
     ]
    },
    {
     "data": {
      "image/png": "[encoded data removed]",
      "text/plain": [
       "<Figure size 576x576 with 1 Axes>"
      ]
     },
     "metadata": {
      "needs_background": "light"
     },
     "output_type": "display_data"
    }
   ],
   "source": [
    "if os.path.exists(\"val_preds_AMD.csv\") and os.path.exists(\"val_preds_Intel.csv\"):\n",
    "    amd = pd.read_csv(\"val_preds_AMD.csv\")\n",
    "    intel = pd.read_csv(\"val_preds_Intel.csv\")\n",
    "    print((intel[\"prob_1\"] - amd[\"prob_1\"]).abs().sort_values(ascending=False).head(10))\n",
    "    fg = plt.figure(figsize=(8,8))\n",
    "    plt.scatter(intel[\"prob_1\"], amd[\"prob_1\"])\n",
    "    plt.title(\"Prob 1\")\n",
    "    plt.xlabel(\"Intel\")\n",
    "    plt.ylabel(\"AMD\")\n",
    "    plt.show()"
   ]
  },
  {
   "cell_type": "code",
   "execution_count": null,
   "metadata": {},
   "outputs": [],
   "source": []
  }
 ],
 "metadata": {
  "hide_input": false,
  "jupytext": {
   "text_representation": {
    "extension": ".py",
    "format_name": "light",
    "format_version": "1.5",
    "jupytext_version": "1.5.2"
   }
  },
  "kernelspec": {
   "display_name": "Python 3",
   "language": "python",
   "name": "python3"
  },
  "language_info": {
   "codemirror_mode": {
    "name": "ipython",
    "version": 3
   },
   "file_extension": ".py",
   "mimetype": "text/x-python",
   "name": "python",
   "nbconvert_exporter": "python",
   "pygments_lexer": "ipython3",
   "version": "3.8.10"
  },
  "toc": {
   "base_numbering": 1,
   "nav_menu": {},
   "number_sections": false,
   "sideBar": true,
   "skip_h1_title": false,
   "title_cell": "Table of Contents",
   "title_sidebar": "Contents",
   "toc_cell": false,
   "toc_position": {
    "height": "902.876px",
    "left": "26px",
    "top": "110.438px",
    "width": "333.718px"
   },
   "toc_section_display": true,
   "toc_window_display": true
  }
 },
 "nbformat": 4,
 "nbformat_minor": 2
}
